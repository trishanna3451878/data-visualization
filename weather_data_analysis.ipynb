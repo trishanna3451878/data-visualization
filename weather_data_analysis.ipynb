{
 "cells": [
  {
   "cell_type": "markdown",
   "id": "7da290ae",
   "metadata": {},
   "source": [
    "# Weather Data Analysis Using Python"
   ]
  },
  {
   "cell_type": "markdown",
   "id": "2cdaed9b",
   "metadata": {},
   "source": [
    "## Data Acquisition and Cleaning"
   ]
  },
  {
   "cell_type": "code",
   "execution_count": null,
   "id": "091d8ca4",
   "metadata": {},
   "outputs": [],
   "source": [
    "# Import necessary libraries\n",
    "import pandas as pd\n",
    "\n",
    "# Load the dataset\n",
    "file_path = '/mnt/data/synthetic_weather_data.csv'\n",
    "weather_data = pd.read_csv(file_path)\n",
    "\n",
    "# Display basic information and preview the dataset\n",
    "print(weather_data.info())\n",
    "weather_data.head()"
   ]
  },
  {
   "cell_type": "markdown",
   "id": "8e31f919",
   "metadata": {},
   "source": [
    "## Data Cleaning"
   ]
  },
  {
   "cell_type": "code",
   "execution_count": null,
   "id": "c2da6d0f",
   "metadata": {},
   "outputs": [],
   "source": [
    "# Check for missing values and duplicates\n",
    "print(\"Missing values:\")\n",
    "print(weather_data.isnull().sum())\n",
    "\n",
    "print(\"\\nDuplicates:\")\n",
    "print(weather_data.duplicated().sum())\n",
    "\n",
    "# If needed, handle missing values or drop duplicates\n",
    "# For example:\n",
    "# weather_data.fillna(0, inplace=True)\n",
    "# weather_data.drop_duplicates(inplace=True)"
   ]
  },
  {
   "cell_type": "markdown",
   "id": "eb05d0a6",
   "metadata": {},
   "source": [
    "## Data Analysis"
   ]
  },
  {
   "cell_type": "code",
   "execution_count": null,
   "id": "c1ab72a3",
   "metadata": {},
   "outputs": [],
   "source": [
    "# Perform basic statistical analysis\n",
    "print(\"Descriptive Statistics:\")\n",
    "print(weather_data.describe())\n",
    "\n",
    "# Analyze trends (e.g., average temperature over time)\n",
    "weather_data['Date'] = pd.to_datetime(weather_data['Date'])\n",
    "weather_data.set_index('Date', inplace=True)\n",
    "monthly_avg_temp = weather_data['Temp_Day'].resample('M').mean()\n",
    "monthly_avg_temp"
   ]
  },
  {
   "cell_type": "markdown",
   "id": "a0598e7a",
   "metadata": {},
   "source": [
    "## SQL Integration"
   ]
  },
  {
   "cell_type": "code",
   "execution_count": null,
   "id": "29973819",
   "metadata": {},
   "outputs": [],
   "source": [
    "# Use SQLite for data storage and querying\n",
    "import sqlite3\n",
    "\n",
    "# Create an SQLite database and table\n",
    "conn = sqlite3.connect(':memory:')\n",
    "weather_data.to_sql('weather', conn, index=False, if_exists='replace')\n",
    "\n",
    "# Query the database (e.g., days with rainfall > 10mm)\n",
    "query = 'SELECT Date, Temp_Day, Rainfall FROM weather WHERE Rainfall > 10'\n",
    "rainy_days = pd.read_sql_query(query, conn)\n",
    "rainy_days"
   ]
  },
  {
   "cell_type": "markdown",
   "id": "b3643092",
   "metadata": {},
   "source": [
    "## Data Visualization"
   ]
  },
  {
   "cell_type": "code",
   "execution_count": null,
   "id": "eda203f3",
   "metadata": {},
   "outputs": [],
   "source": [
    "# Visualize weather trends using Matplotlib\n",
    "import matplotlib.pyplot as plt\n",
    "\n",
    "# Plot average monthly temperature\n",
    "plt.figure(figsize=(10, 6))\n",
    "plt.plot(monthly_avg_temp.index, monthly_avg_temp.values, marker='o', label='Avg Temp')\n",
    "plt.title('Monthly Average Temperature')\n",
    "plt.xlabel('Month')\n",
    "plt.ylabel('Temperature (°C)')\n",
    "plt.legend()\n",
    "plt.grid()\n",
    "plt.show()"
   ]
  },
  {
   "cell_type": "markdown",
   "id": "4522ec33",
   "metadata": {},
   "source": [
    "## Object-Oriented Programming"
   ]
  },
  {
   "cell_type": "code",
   "execution_count": null,
   "id": "001bf39a",
   "metadata": {},
   "outputs": [],
   "source": [
    "# Define a class to model weather records\n",
    "class WeatherRecord:\n",
    "    def __init__(self, date, temp_day, temp_night, humidity, rainfall, wind_speed):\n",
    "        self.date = date\n",
    "        self.temp_day = temp_day\n",
    "        self.temp_night = temp_night\n",
    "        self.humidity = humidity\n",
    "        self.rainfall = rainfall\n",
    "        self.wind_speed = wind_speed\n",
    "\n",
    "    def __str__(self):\n",
    "        return f\"Weather on {self.date}: {self.temp_day}°C (Day), {self.temp_night}°C (Night), {self.humidity}% Humidity, {self.rainfall}mm Rainfall, {self.wind_speed}m/s Wind Speed\"\n",
    "\n",
    "# Create an instance and display its details\n",
    "sample_record = WeatherRecord(\n",
    "    date='2024-01-01', temp_day=22.5, temp_night=19.4, humidity=88, rainfall=0.1, wind_speed=2.8\n",
    ")\n",
    "print(sample_record)"
   ]
  }
 ],
 "metadata": {},
 "nbformat": 4,
 "nbformat_minor": 5
}